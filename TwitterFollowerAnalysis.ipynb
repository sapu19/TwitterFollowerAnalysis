{
 "cells": [
  {
   "cell_type": "code",
   "execution_count": 34,
   "metadata": {},
   "outputs": [],
   "source": [
    "#swapnil.darji@somaiya.edu\n",
    "#riyasvidhale@gmail.com"
   ]
  },
  {
   "cell_type": "code",
   "execution_count": 1,
   "metadata": {},
   "outputs": [],
   "source": [
    "import pandas as pd\n",
    "import numpy as np\n",
    "import matplotlib.pyplot as plt\n",
    "%matplotlib inline\n",
    "import seaborn as sns"
   ]
  },
  {
   "cell_type": "code",
   "execution_count": 2,
   "metadata": {},
   "outputs": [],
   "source": [
    "data=pd.read_csv('twitter_data.csv')"
   ]
  },
  {
   "cell_type": "code",
   "execution_count": 5,
   "metadata": {},
   "outputs": [
    {
     "data": {
      "text/html": [
       "<div>\n",
       "<style scoped>\n",
       "    .dataframe tbody tr th:only-of-type {\n",
       "        vertical-align: middle;\n",
       "    }\n",
       "\n",
       "    .dataframe tbody tr th {\n",
       "        vertical-align: top;\n",
       "    }\n",
       "\n",
       "    .dataframe thead th {\n",
       "        text-align: right;\n",
       "    }\n",
       "</style>\n",
       "<table border=\"1\" class=\"dataframe\">\n",
       "  <thead>\n",
       "    <tr style=\"text-align: right;\">\n",
       "      <th></th>\n",
       "      <th>id</th>\n",
       "      <th>user_description</th>\n",
       "      <th>user_location</th>\n",
       "      <th>text</th>\n",
       "      <th>user_name</th>\n",
       "      <th>verified</th>\n",
       "      <th>user_followers</th>\n",
       "      <th>user_friends</th>\n",
       "    </tr>\n",
       "  </thead>\n",
       "  <tbody>\n",
       "    <tr>\n",
       "      <th>0</th>\n",
       "      <td>1</td>\n",
       "      <td>\"The past cannot be changed. The future is yet...</td>\n",
       "      <td>NaN</td>\n",
       "      <td>RT @kylegriffin1: Jimmy Carter: \"Everyday we s...</td>\n",
       "      <td>4susulli</td>\n",
       "      <td>0</td>\n",
       "      <td>19</td>\n",
       "      <td>60</td>\n",
       "    </tr>\n",
       "    <tr>\n",
       "      <th>1</th>\n",
       "      <td>2</td>\n",
       "      <td>theOnlyjass</td>\n",
       "      <td>NaN</td>\n",
       "      <td>RT @ily_toyaa: why her name gotta be cricket??...</td>\n",
       "      <td>Jass_jazz_jasz</td>\n",
       "      <td>0</td>\n",
       "      <td>1446</td>\n",
       "      <td>1145</td>\n",
       "    </tr>\n",
       "    <tr>\n",
       "      <th>2</th>\n",
       "      <td>3</td>\n",
       "      <td>@ESPN family member. @ThinkTaylorORG believer....</td>\n",
       "      <td>Everywhere</td>\n",
       "      <td>Well done @USWNT ðð¼ðð¼ðð¼ðð...</td>\n",
       "      <td>TaylorTwellman</td>\n",
       "      <td>1</td>\n",
       "      <td>328247</td>\n",
       "      <td>769</td>\n",
       "    </tr>\n",
       "    <tr>\n",
       "      <th>3</th>\n",
       "      <td>4</td>\n",
       "      <td>NaN</td>\n",
       "      <td>NaN</td>\n",
       "      <td>夕食会の料理テーマは「里山」　安倍首相が乾杯の音頭 https://t.co/GCwoPHO...</td>\n",
       "      <td>syuketsunetsu</td>\n",
       "      <td>0</td>\n",
       "      <td>11</td>\n",
       "      <td>21</td>\n",
       "    </tr>\n",
       "    <tr>\n",
       "      <th>4</th>\n",
       "      <td>5</td>\n",
       "      <td>post EU Council Presidency #EU2018AT issues / ...</td>\n",
       "      <td>Vienna</td>\n",
       "      <td>RT @EU_Commission: “I measure my words careful...</td>\n",
       "      <td>AndreasSumper</td>\n",
       "      <td>0</td>\n",
       "      <td>756</td>\n",
       "      <td>1111</td>\n",
       "    </tr>\n",
       "  </tbody>\n",
       "</table>\n",
       "</div>"
      ],
      "text/plain": [
       "   id                                   user_description user_location  \\\n",
       "0   1  \"The past cannot be changed. The future is yet...           NaN   \n",
       "1   2                                        theOnlyjass           NaN   \n",
       "2   3  @ESPN family member. @ThinkTaylorORG believer....    Everywhere   \n",
       "3   4                                                NaN           NaN   \n",
       "4   5  post EU Council Presidency #EU2018AT issues / ...        Vienna   \n",
       "\n",
       "                                                text       user_name  \\\n",
       "0  RT @kylegriffin1: Jimmy Carter: \"Everyday we s...        4susulli   \n",
       "1  RT @ily_toyaa: why her name gotta be cricket??...  Jass_jazz_jasz   \n",
       "2  Well done @USWNT ðð¼ðð¼ðð¼ðð...  TaylorTwellman   \n",
       "3  夕食会の料理テーマは「里山」　安倍首相が乾杯の音頭 https://t.co/GCwoPHO...   syuketsunetsu   \n",
       "4  RT @EU_Commission: “I measure my words careful...   AndreasSumper   \n",
       "\n",
       "   verified  user_followers  user_friends  \n",
       "0         0              19            60  \n",
       "1         0            1446          1145  \n",
       "2         1          328247           769  \n",
       "3         0              11            21  \n",
       "4         0             756          1111  "
      ]
     },
     "execution_count": 5,
     "metadata": {},
     "output_type": "execute_result"
    }
   ],
   "source": [
    "data.head()"
   ]
  },
  {
   "cell_type": "code",
   "execution_count": 7,
   "metadata": {},
   "outputs": [
    {
     "data": {
      "text/plain": [
       "(289, 8)"
      ]
     },
     "execution_count": 7,
     "metadata": {},
     "output_type": "execute_result"
    }
   ],
   "source": [
    "data.shape"
   ]
  },
  {
   "cell_type": "code",
   "execution_count": 8,
   "metadata": {},
   "outputs": [],
   "source": [
    "data['follower_following_ratio']=data['user_followers']/data['user_friends']"
   ]
  },
  {
   "cell_type": "code",
   "execution_count": 9,
   "metadata": {},
   "outputs": [
    {
     "data": {
      "text/html": [
       "<div>\n",
       "<style scoped>\n",
       "    .dataframe tbody tr th:only-of-type {\n",
       "        vertical-align: middle;\n",
       "    }\n",
       "\n",
       "    .dataframe tbody tr th {\n",
       "        vertical-align: top;\n",
       "    }\n",
       "\n",
       "    .dataframe thead th {\n",
       "        text-align: right;\n",
       "    }\n",
       "</style>\n",
       "<table border=\"1\" class=\"dataframe\">\n",
       "  <thead>\n",
       "    <tr style=\"text-align: right;\">\n",
       "      <th></th>\n",
       "      <th>id</th>\n",
       "      <th>user_description</th>\n",
       "      <th>user_location</th>\n",
       "      <th>text</th>\n",
       "      <th>user_name</th>\n",
       "      <th>verified</th>\n",
       "      <th>user_followers</th>\n",
       "      <th>user_friends</th>\n",
       "      <th>follower_following_ratio</th>\n",
       "    </tr>\n",
       "  </thead>\n",
       "  <tbody>\n",
       "    <tr>\n",
       "      <th>0</th>\n",
       "      <td>1</td>\n",
       "      <td>\"The past cannot be changed. The future is yet...</td>\n",
       "      <td>NaN</td>\n",
       "      <td>RT @kylegriffin1: Jimmy Carter: \"Everyday we s...</td>\n",
       "      <td>4susulli</td>\n",
       "      <td>0</td>\n",
       "      <td>19</td>\n",
       "      <td>60</td>\n",
       "      <td>0.316667</td>\n",
       "    </tr>\n",
       "    <tr>\n",
       "      <th>1</th>\n",
       "      <td>2</td>\n",
       "      <td>theOnlyjass</td>\n",
       "      <td>NaN</td>\n",
       "      <td>RT @ily_toyaa: why her name gotta be cricket??...</td>\n",
       "      <td>Jass_jazz_jasz</td>\n",
       "      <td>0</td>\n",
       "      <td>1446</td>\n",
       "      <td>1145</td>\n",
       "      <td>1.262882</td>\n",
       "    </tr>\n",
       "    <tr>\n",
       "      <th>2</th>\n",
       "      <td>3</td>\n",
       "      <td>@ESPN family member. @ThinkTaylorORG believer....</td>\n",
       "      <td>Everywhere</td>\n",
       "      <td>Well done @USWNT ðð¼ðð¼ðð¼ðð...</td>\n",
       "      <td>TaylorTwellman</td>\n",
       "      <td>1</td>\n",
       "      <td>328247</td>\n",
       "      <td>769</td>\n",
       "      <td>426.849155</td>\n",
       "    </tr>\n",
       "    <tr>\n",
       "      <th>3</th>\n",
       "      <td>4</td>\n",
       "      <td>NaN</td>\n",
       "      <td>NaN</td>\n",
       "      <td>夕食会の料理テーマは「里山」　安倍首相が乾杯の音頭 https://t.co/GCwoPHO...</td>\n",
       "      <td>syuketsunetsu</td>\n",
       "      <td>0</td>\n",
       "      <td>11</td>\n",
       "      <td>21</td>\n",
       "      <td>0.523810</td>\n",
       "    </tr>\n",
       "    <tr>\n",
       "      <th>4</th>\n",
       "      <td>5</td>\n",
       "      <td>post EU Council Presidency #EU2018AT issues / ...</td>\n",
       "      <td>Vienna</td>\n",
       "      <td>RT @EU_Commission: “I measure my words careful...</td>\n",
       "      <td>AndreasSumper</td>\n",
       "      <td>0</td>\n",
       "      <td>756</td>\n",
       "      <td>1111</td>\n",
       "      <td>0.680468</td>\n",
       "    </tr>\n",
       "  </tbody>\n",
       "</table>\n",
       "</div>"
      ],
      "text/plain": [
       "   id                                   user_description user_location  \\\n",
       "0   1  \"The past cannot be changed. The future is yet...           NaN   \n",
       "1   2                                        theOnlyjass           NaN   \n",
       "2   3  @ESPN family member. @ThinkTaylorORG believer....    Everywhere   \n",
       "3   4                                                NaN           NaN   \n",
       "4   5  post EU Council Presidency #EU2018AT issues / ...        Vienna   \n",
       "\n",
       "                                                text       user_name  \\\n",
       "0  RT @kylegriffin1: Jimmy Carter: \"Everyday we s...        4susulli   \n",
       "1  RT @ily_toyaa: why her name gotta be cricket??...  Jass_jazz_jasz   \n",
       "2  Well done @USWNT ðð¼ðð¼ðð¼ðð...  TaylorTwellman   \n",
       "3  夕食会の料理テーマは「里山」　安倍首相が乾杯の音頭 https://t.co/GCwoPHO...   syuketsunetsu   \n",
       "4  RT @EU_Commission: “I measure my words careful...   AndreasSumper   \n",
       "\n",
       "   verified  user_followers  user_friends  follower_following_ratio  \n",
       "0         0              19            60                  0.316667  \n",
       "1         0            1446          1145                  1.262882  \n",
       "2         1          328247           769                426.849155  \n",
       "3         0              11            21                  0.523810  \n",
       "4         0             756          1111                  0.680468  "
      ]
     },
     "execution_count": 9,
     "metadata": {},
     "output_type": "execute_result"
    }
   ],
   "source": [
    "data.head()"
   ]
  },
  {
   "cell_type": "code",
   "execution_count": 10,
   "metadata": {},
   "outputs": [],
   "source": [
    "data.to_csv('new_data1.csv')"
   ]
  },
  {
   "cell_type": "code",
   "execution_count": 16,
   "metadata": {},
   "outputs": [],
   "source": [
    "data_new=pd.read_csv(\"new_dataf\")"
   ]
  },
  {
   "cell_type": "code",
   "execution_count": 17,
   "metadata": {},
   "outputs": [
    {
     "data": {
      "text/html": [
       "<div>\n",
       "<style scoped>\n",
       "    .dataframe tbody tr th:only-of-type {\n",
       "        vertical-align: middle;\n",
       "    }\n",
       "\n",
       "    .dataframe tbody tr th {\n",
       "        vertical-align: top;\n",
       "    }\n",
       "\n",
       "    .dataframe thead th {\n",
       "        text-align: right;\n",
       "    }\n",
       "</style>\n",
       "<table border=\"1\" class=\"dataframe\">\n",
       "  <thead>\n",
       "    <tr style=\"text-align: right;\">\n",
       "      <th></th>\n",
       "      <th>Unnamed: 0</th>\n",
       "      <th>id</th>\n",
       "      <th>user_description</th>\n",
       "      <th>text</th>\n",
       "      <th>user_name</th>\n",
       "      <th>verified</th>\n",
       "      <th>user_location</th>\n",
       "      <th>user_interest</th>\n",
       "      <th>user_followers</th>\n",
       "      <th>user_friends</th>\n",
       "      <th>follower_following_ratio</th>\n",
       "      <th>follow_back</th>\n",
       "    </tr>\n",
       "  </thead>\n",
       "  <tbody>\n",
       "    <tr>\n",
       "      <th>0</th>\n",
       "      <td>0</td>\n",
       "      <td>1</td>\n",
       "      <td>\"The past cannot be changed. The future is yet...</td>\n",
       "      <td>RT @kylegriffin1: Jimmy Carter: \"Everyday we s...</td>\n",
       "      <td>4susulli</td>\n",
       "      <td>0</td>\n",
       "      <td>0</td>\n",
       "      <td>0</td>\n",
       "      <td>19</td>\n",
       "      <td>60</td>\n",
       "      <td>0.3166666667</td>\n",
       "      <td>0.0</td>\n",
       "    </tr>\n",
       "    <tr>\n",
       "      <th>1</th>\n",
       "      <td>1</td>\n",
       "      <td>2</td>\n",
       "      <td>theOnlyjass</td>\n",
       "      <td>RT @ily_toyaa: why her name gotta be cricket??...</td>\n",
       "      <td>Jass_jazz_jasz</td>\n",
       "      <td>0</td>\n",
       "      <td>0</td>\n",
       "      <td>1</td>\n",
       "      <td>1446</td>\n",
       "      <td>1145</td>\n",
       "      <td>1.262882096</td>\n",
       "      <td>1.0</td>\n",
       "    </tr>\n",
       "    <tr>\n",
       "      <th>2</th>\n",
       "      <td>2</td>\n",
       "      <td>3</td>\n",
       "      <td>@ESPN family member. @ThinkTaylorORG believer....</td>\n",
       "      <td>Well done @USWNT ðð¼ðð¼ðð¼ðð...</td>\n",
       "      <td>TaylorTwellman</td>\n",
       "      <td>1</td>\n",
       "      <td>0</td>\n",
       "      <td>1</td>\n",
       "      <td>328247</td>\n",
       "      <td>769</td>\n",
       "      <td>426.8491547</td>\n",
       "      <td>0.0</td>\n",
       "    </tr>\n",
       "    <tr>\n",
       "      <th>3</th>\n",
       "      <td>3</td>\n",
       "      <td>4</td>\n",
       "      <td>NaN</td>\n",
       "      <td>夕食会の料理テーマは「里山」　安倍首相が乾杯の音頭 https://t.co/GCwoPHO...</td>\n",
       "      <td>syuketsunetsu</td>\n",
       "      <td>0</td>\n",
       "      <td>0</td>\n",
       "      <td>0</td>\n",
       "      <td>11</td>\n",
       "      <td>21</td>\n",
       "      <td>0.5238095238</td>\n",
       "      <td>0.0</td>\n",
       "    </tr>\n",
       "    <tr>\n",
       "      <th>4</th>\n",
       "      <td>4</td>\n",
       "      <td>5</td>\n",
       "      <td>post EU Council Presidency #EU2018AT issues / ...</td>\n",
       "      <td>RT @EU_Commission: “I measure my words careful...</td>\n",
       "      <td>AndreasSumper</td>\n",
       "      <td>0</td>\n",
       "      <td>0</td>\n",
       "      <td>0</td>\n",
       "      <td>756</td>\n",
       "      <td>1111</td>\n",
       "      <td>0.6804680468</td>\n",
       "      <td>0.0</td>\n",
       "    </tr>\n",
       "  </tbody>\n",
       "</table>\n",
       "</div>"
      ],
      "text/plain": [
       "   Unnamed: 0  id                                   user_description  \\\n",
       "0           0   1  \"The past cannot be changed. The future is yet...   \n",
       "1           1   2                                        theOnlyjass   \n",
       "2           2   3  @ESPN family member. @ThinkTaylorORG believer....   \n",
       "3           3   4                                                NaN   \n",
       "4           4   5  post EU Council Presidency #EU2018AT issues / ...   \n",
       "\n",
       "                                                text       user_name  \\\n",
       "0  RT @kylegriffin1: Jimmy Carter: \"Everyday we s...        4susulli   \n",
       "1  RT @ily_toyaa: why her name gotta be cricket??...  Jass_jazz_jasz   \n",
       "2  Well done @USWNT ðð¼ðð¼ðð¼ðð...  TaylorTwellman   \n",
       "3  夕食会の料理テーマは「里山」　安倍首相が乾杯の音頭 https://t.co/GCwoPHO...   syuketsunetsu   \n",
       "4  RT @EU_Commission: “I measure my words careful...   AndreasSumper   \n",
       "\n",
       "   verified  user_location  user_interest  user_followers  user_friends  \\\n",
       "0         0              0              0              19            60   \n",
       "1         0              0              1            1446          1145   \n",
       "2         1              0              1          328247           769   \n",
       "3         0              0              0              11            21   \n",
       "4         0              0              0             756          1111   \n",
       "\n",
       "  follower_following_ratio  follow_back  \n",
       "0             0.3166666667          0.0  \n",
       "1              1.262882096          1.0  \n",
       "2              426.8491547          0.0  \n",
       "3             0.5238095238          0.0  \n",
       "4             0.6804680468          0.0  "
      ]
     },
     "execution_count": 17,
     "metadata": {},
     "output_type": "execute_result"
    }
   ],
   "source": [
    "data_new.head()"
   ]
  },
  {
   "cell_type": "code",
   "execution_count": 19,
   "metadata": {},
   "outputs": [],
   "source": [
    "data_new.drop(['id','user_description','text','user_name','user_followers','user_friends'],axis=1, inplace=True)"
   ]
  },
  {
   "cell_type": "code",
   "execution_count": 20,
   "metadata": {},
   "outputs": [
    {
     "data": {
      "text/html": [
       "<div>\n",
       "<style scoped>\n",
       "    .dataframe tbody tr th:only-of-type {\n",
       "        vertical-align: middle;\n",
       "    }\n",
       "\n",
       "    .dataframe tbody tr th {\n",
       "        vertical-align: top;\n",
       "    }\n",
       "\n",
       "    .dataframe thead th {\n",
       "        text-align: right;\n",
       "    }\n",
       "</style>\n",
       "<table border=\"1\" class=\"dataframe\">\n",
       "  <thead>\n",
       "    <tr style=\"text-align: right;\">\n",
       "      <th></th>\n",
       "      <th>Unnamed: 0</th>\n",
       "      <th>verified</th>\n",
       "      <th>user_location</th>\n",
       "      <th>user_interest</th>\n",
       "      <th>follower_following_ratio</th>\n",
       "      <th>follow_back</th>\n",
       "    </tr>\n",
       "  </thead>\n",
       "  <tbody>\n",
       "    <tr>\n",
       "      <th>0</th>\n",
       "      <td>0</td>\n",
       "      <td>0</td>\n",
       "      <td>0</td>\n",
       "      <td>0</td>\n",
       "      <td>0.3166666667</td>\n",
       "      <td>0.0</td>\n",
       "    </tr>\n",
       "    <tr>\n",
       "      <th>1</th>\n",
       "      <td>1</td>\n",
       "      <td>0</td>\n",
       "      <td>0</td>\n",
       "      <td>1</td>\n",
       "      <td>1.262882096</td>\n",
       "      <td>1.0</td>\n",
       "    </tr>\n",
       "    <tr>\n",
       "      <th>2</th>\n",
       "      <td>2</td>\n",
       "      <td>1</td>\n",
       "      <td>0</td>\n",
       "      <td>1</td>\n",
       "      <td>426.8491547</td>\n",
       "      <td>0.0</td>\n",
       "    </tr>\n",
       "    <tr>\n",
       "      <th>3</th>\n",
       "      <td>3</td>\n",
       "      <td>0</td>\n",
       "      <td>0</td>\n",
       "      <td>0</td>\n",
       "      <td>0.5238095238</td>\n",
       "      <td>0.0</td>\n",
       "    </tr>\n",
       "    <tr>\n",
       "      <th>4</th>\n",
       "      <td>4</td>\n",
       "      <td>0</td>\n",
       "      <td>0</td>\n",
       "      <td>0</td>\n",
       "      <td>0.6804680468</td>\n",
       "      <td>0.0</td>\n",
       "    </tr>\n",
       "  </tbody>\n",
       "</table>\n",
       "</div>"
      ],
      "text/plain": [
       "   Unnamed: 0  verified  user_location  user_interest  \\\n",
       "0           0         0              0              0   \n",
       "1           1         0              0              1   \n",
       "2           2         1              0              1   \n",
       "3           3         0              0              0   \n",
       "4           4         0              0              0   \n",
       "\n",
       "  follower_following_ratio  follow_back  \n",
       "0             0.3166666667          0.0  \n",
       "1              1.262882096          1.0  \n",
       "2              426.8491547          0.0  \n",
       "3             0.5238095238          0.0  \n",
       "4             0.6804680468          0.0  "
      ]
     },
     "execution_count": 20,
     "metadata": {},
     "output_type": "execute_result"
    }
   ],
   "source": [
    "data_new.head()"
   ]
  },
  {
   "cell_type": "code",
   "execution_count": 21,
   "metadata": {},
   "outputs": [],
   "source": [
    "data_new.drop(['Unnamed: 0'],axis=1, inplace=True)"
   ]
  },
  {
   "cell_type": "code",
   "execution_count": 23,
   "metadata": {},
   "outputs": [
    {
     "data": {
      "text/html": [
       "<div>\n",
       "<style scoped>\n",
       "    .dataframe tbody tr th:only-of-type {\n",
       "        vertical-align: middle;\n",
       "    }\n",
       "\n",
       "    .dataframe tbody tr th {\n",
       "        vertical-align: top;\n",
       "    }\n",
       "\n",
       "    .dataframe thead th {\n",
       "        text-align: right;\n",
       "    }\n",
       "</style>\n",
       "<table border=\"1\" class=\"dataframe\">\n",
       "  <thead>\n",
       "    <tr style=\"text-align: right;\">\n",
       "      <th></th>\n",
       "      <th>verified</th>\n",
       "      <th>user_location</th>\n",
       "      <th>user_interest</th>\n",
       "      <th>follower_following_ratio</th>\n",
       "      <th>follow_back</th>\n",
       "    </tr>\n",
       "  </thead>\n",
       "  <tbody>\n",
       "    <tr>\n",
       "      <th>0</th>\n",
       "      <td>0</td>\n",
       "      <td>0</td>\n",
       "      <td>0</td>\n",
       "      <td>0.3166666667</td>\n",
       "      <td>0.0</td>\n",
       "    </tr>\n",
       "    <tr>\n",
       "      <th>1</th>\n",
       "      <td>0</td>\n",
       "      <td>0</td>\n",
       "      <td>1</td>\n",
       "      <td>1.262882096</td>\n",
       "      <td>1.0</td>\n",
       "    </tr>\n",
       "    <tr>\n",
       "      <th>2</th>\n",
       "      <td>1</td>\n",
       "      <td>0</td>\n",
       "      <td>1</td>\n",
       "      <td>426.8491547</td>\n",
       "      <td>0.0</td>\n",
       "    </tr>\n",
       "    <tr>\n",
       "      <th>3</th>\n",
       "      <td>0</td>\n",
       "      <td>0</td>\n",
       "      <td>0</td>\n",
       "      <td>0.5238095238</td>\n",
       "      <td>0.0</td>\n",
       "    </tr>\n",
       "    <tr>\n",
       "      <th>4</th>\n",
       "      <td>0</td>\n",
       "      <td>0</td>\n",
       "      <td>0</td>\n",
       "      <td>0.6804680468</td>\n",
       "      <td>0.0</td>\n",
       "    </tr>\n",
       "  </tbody>\n",
       "</table>\n",
       "</div>"
      ],
      "text/plain": [
       "   verified  user_location  user_interest follower_following_ratio  \\\n",
       "0         0              0              0             0.3166666667   \n",
       "1         0              0              1              1.262882096   \n",
       "2         1              0              1              426.8491547   \n",
       "3         0              0              0             0.5238095238   \n",
       "4         0              0              0             0.6804680468   \n",
       "\n",
       "   follow_back  \n",
       "0          0.0  \n",
       "1          1.0  \n",
       "2          0.0  \n",
       "3          0.0  \n",
       "4          0.0  "
      ]
     },
     "execution_count": 23,
     "metadata": {},
     "output_type": "execute_result"
    }
   ],
   "source": [
    "data_new.head()"
   ]
  },
  {
   "cell_type": "code",
   "execution_count": 24,
   "metadata": {},
   "outputs": [
    {
     "data": {
      "text/plain": [
       "(289, 5)"
      ]
     },
     "execution_count": 24,
     "metadata": {},
     "output_type": "execute_result"
    }
   ],
   "source": [
    "data_new.shape"
   ]
  },
  {
   "cell_type": "code",
   "execution_count": 27,
   "metadata": {},
   "outputs": [
    {
     "data": {
      "text/plain": [
       "verified                    0\n",
       "user_location               0\n",
       "user_interest               0\n",
       "follower_following_ratio    0\n",
       "follow_back                 1\n",
       "dtype: int64"
      ]
     },
     "execution_count": 27,
     "metadata": {},
     "output_type": "execute_result"
    }
   ],
   "source": [
    "data_new.isnull().sum()"
   ]
  },
  {
   "cell_type": "code",
   "execution_count": 29,
   "metadata": {},
   "outputs": [],
   "source": [
    "data_new = data_new[data_new['follow_back'].notnull()]"
   ]
  },
  {
   "cell_type": "code",
   "execution_count": 30,
   "metadata": {},
   "outputs": [
    {
     "data": {
      "text/plain": [
       "verified                    0\n",
       "user_location               0\n",
       "user_interest               0\n",
       "follower_following_ratio    0\n",
       "follow_back                 0\n",
       "dtype: int64"
      ]
     },
     "execution_count": 30,
     "metadata": {},
     "output_type": "execute_result"
    }
   ],
   "source": [
    "data_new.isnull().sum()"
   ]
  },
  {
   "cell_type": "code",
   "execution_count": 32,
   "metadata": {},
   "outputs": [
    {
     "data": {
      "text/plain": [
       "(288, 5)"
      ]
     },
     "execution_count": 32,
     "metadata": {},
     "output_type": "execute_result"
    }
   ],
   "source": [
    "data_new.shape"
   ]
  },
  {
   "cell_type": "code",
   "execution_count": null,
   "metadata": {},
   "outputs": [],
   "source": []
  }
 ],
 "metadata": {
  "kernelspec": {
   "display_name": "Python 3",
   "language": "python",
   "name": "python3"
  },
  "language_info": {
   "codemirror_mode": {
    "name": "ipython",
    "version": 3
   },
   "file_extension": ".py",
   "mimetype": "text/x-python",
   "name": "python",
   "nbconvert_exporter": "python",
   "pygments_lexer": "ipython3",
   "version": "3.7.3"
  }
 },
 "nbformat": 4,
 "nbformat_minor": 2
}
